{
 "cells": [
  {
   "cell_type": "markdown",
   "id": "3f055ce8",
   "metadata": {},
   "source": [
    "**Notebook:** Exploratory analysis of the data"
   ]
  },
  {
   "cell_type": "code",
   "execution_count": 1,
   "id": "9e1b60fa",
   "metadata": {},
   "outputs": [],
   "source": [
    "# !pip install researchpy"
   ]
  },
  {
   "cell_type": "code",
   "execution_count": 2,
   "id": "ca06db88",
   "metadata": {},
   "outputs": [],
   "source": [
    "# Libraries: \n",
    "import pandas as pd\n",
    "import pyreadstat\n",
    "import numpy as np\n",
    "import os\n",
    "import matplotlib.pyplot as plt\n",
    "import seaborn as sns\n",
    "\n",
    "pd.set_option('display.max_columns', 20)"
   ]
  },
  {
   "cell_type": "code",
   "execution_count": 3,
   "id": "0f3b4b78",
   "metadata": {},
   "outputs": [
    {
     "name": "stdout",
     "output_type": "stream",
     "text": [
      "C:\\Users\\marij\\Documents\\Master thesis\\Upload Docs\n"
     ]
    }
   ],
   "source": [
    "# set the current working directory \n",
    "os.chdir(os.getcwd()) \n",
    "print(os.getcwd())"
   ]
  },
  {
   "cell_type": "code",
   "execution_count": 4,
   "id": "159016dc",
   "metadata": {},
   "outputs": [],
   "source": [
    "# Import data for exploration\n",
    "data = pd.read_csv(\"Appendix_MariyaHristova_11250_Feb2023_data_for_exploration.csv\")  #.drop('Unnamed: 0', axis = 1)\n",
    "# Import the file with the mapping of variable and question\n",
    "map_variables = pd.read_csv(\"Appendix_MariyaHristova_11250_Feb2023_mapping.csv\")"
   ]
  },
  {
   "cell_type": "markdown",
   "id": "af1ce51a",
   "metadata": {},
   "source": [
    "# 1. Target variable"
   ]
  },
  {
   "cell_type": "code",
   "execution_count": 5,
   "id": "9b9e6830",
   "metadata": {},
   "outputs": [],
   "source": [
    "# Create the target variables\n",
    "data['return'] = np.NaN \n",
    "data.loc[data['q27'] <= 2, 'return'] = '1'\n",
    "data.loc[data['q27'] >= 3, 'return'] = '0'"
   ]
  },
  {
   "cell_type": "code",
   "execution_count": 6,
   "id": "e77a629f",
   "metadata": {},
   "outputs": [
    {
     "data": {
      "text/plain": [
       "3.0    234\n",
       "1.0    114\n",
       "2.0    108\n",
       "4.0    106\n",
       "Name: q27, dtype: int64"
      ]
     },
     "execution_count": 6,
     "metadata": {},
     "output_type": "execute_result"
    }
   ],
   "source": [
    "# Distribution \n",
    "data['q27'].value_counts()\n",
    "# data['q27'].value_counts(normalize=True)\n",
    "# Percentage of missing\n",
    "#data['q27'].isna().sum() / len(data['q27'])\n",
    "# # Number of missing \n",
    "#data['q27'].isna().sum() "
   ]
  },
  {
   "cell_type": "code",
   "execution_count": 7,
   "id": "e63cd51b",
   "metadata": {},
   "outputs": [
    {
     "data": {
      "image/png": "[encoded data removed]",
      "text/plain": [
       "<Figure size 500x500 with 1 Axes>"
      ]
     },
     "metadata": {},
     "output_type": "display_data"
    },
    {
     "data": {
      "text/plain": [
       "<Figure size 4000x1000 with 0 Axes>"
      ]
     },
     "metadata": {},
     "output_type": "display_data"
    }
   ],
   "source": [
    "# Barplot of the target variable \n",
    "sns.set_context(\"paper\")\n",
    "sns.set_style(\"whitegrid\")\n",
    "plt.rcParams[\"font.weight\"] = \"bold\"\n",
    "plt.rcParams[\"axes.labelweight\"] = \"bold\"\n",
    "\n",
    "g = sns.catplot(x=\"q27\", kind=\"count\", palette=\"rocket_r\", data=data)\n",
    "#g.fig.suptitle(\"Would you return to live in Bulgaria? (q27)\",x = 0.5, y =1.06, fontsize = 14) \n",
    "g.set_axis_labels(\"\" ,\"Count\", fontsize=14)\n",
    "g.set_xticklabels([\"Yes\", \"Rather yes\", \"Rather not\" ,\"No\"], fontsize=12, rotation = 0)\n",
    "#plt.xticks(rotation=45)\n",
    "\n",
    "# Adding the values over the bars\n",
    "ax = g.facet_axis(0,0)\n",
    "for p in ax.patches:\n",
    "    ax.text(p.get_x() +0.25 , \n",
    "            p.get_height() * 1.03, \n",
    "           '{0:.0f}'.format(p.get_height()), \n",
    "            color='black', \n",
    "            rotation='horizontal', \n",
    "            size='large')\n",
    "plt.figure(figsize=(40,10)) \n",
    "plt.tight_layout()\n",
    "#plt.savefig('barplot_q27.png', bbox_inches='tight',  dpi=600) \n",
    "#plt.show()\n",
    "\n",
    "#possible answers: 1- Yes, 2- Rather yes, 3 - Rather not, 4 - No.#"
   ]
  },
  {
   "cell_type": "code",
   "execution_count": 8,
   "id": "1bf33fd1",
   "metadata": {},
   "outputs": [],
   "source": [
    "# Barplot of the target variable \n",
    "#plt.figure(figsize=(40,50)) \n",
    "\n",
    "sns.set_context(\"paper\")\n",
    "sns.set_style(\"whitegrid\")\n",
    "plt.rcParams[\"font.weight\"] = \"bold\"\n",
    "plt.rcParams[\"axes.labelweight\"] = \"bold\"\n",
    "\n",
    "g = sns.catplot(x=\"q27\", kind=\"count\", palette=\"rocket_r\", data=data)\n",
    "#g.fig.suptitle(\"Would you return to live in Bulgaria? (q27)\",x = 0.5, y =1.06, fontsize = 14) \n",
    "g.set_axis_labels(\"\" ,\"Count\", fontsize=12)\n",
    "g.set_xticklabels([\"1- Yes\", \"2- Rather yes\", \"3- Rather not\" ,\"4- No\"], fontsize=12)\n",
    "#plt.xticks(rotation=45)\n",
    "\n",
    "# Adding the values over the bars\n",
    "ax = g.facet_axis(0,0)\n",
    "for p in ax.patches:\n",
    "    ax.text(p.get_x() +0.25 , \n",
    "            p.get_height() * 1.03, \n",
    "           '{0:.0f}'.format(p.get_height()), \n",
    "            color='black', \n",
    "            rotation='horizontal', \n",
    "            size='large')\n",
    "    \n",
    "plt.tight_layout()\n",
    "#plt.savefig('barplot_q27.png', bbox_inches='tight',  dpi=600) \n",
    "#plt.show()\n",
    "\n",
    "#possible answers: 1- Yes, 2- Rather yes, 3 - Rather not, 4 - No.#"
   ]
  },
  {
   "cell_type": "code",
   "execution_count": 9,
   "id": "07fc06c6",
   "metadata": {},
   "outputs": [
    {
     "data": {
      "text/plain": [
       "0    340\n",
       "1    222\n",
       "Name: return, dtype: int64"
      ]
     },
     "execution_count": 9,
     "metadata": {},
     "output_type": "execute_result"
    }
   ],
   "source": [
    "data[\"return\"].value_counts()"
   ]
  },
  {
   "cell_type": "code",
   "execution_count": 10,
   "id": "b1602378",
   "metadata": {},
   "outputs": [
    {
     "data": {
      "image/png": "[encoded data removed]",
      "text/plain": [
       "<Figure size 500x500 with 1 Axes>"
      ]
     },
     "metadata": {},
     "output_type": "display_data"
    },
    {
     "data": {
      "image/png": "[encoded data removed]",
      "text/plain": [
       "<Figure size 500x500 with 1 Axes>"
      ]
     },
     "metadata": {},
     "output_type": "display_data"
    }
   ],
   "source": [
    "data[\"return\"].value_counts()\n",
    "\n",
    "# Barplot of the target variable \n",
    "#plt.figure(figsize=(40,50)) \n",
    "\n",
    "sns.set_context(\"paper\")\n",
    "sns.set_style(\"whitegrid\")\n",
    "plt.rcParams[\"font.weight\"] = \"bold\"\n",
    "plt.rcParams[\"axes.labelweight\"] = \"bold\"\n",
    "\n",
    "g = sns.catplot(x=\"return\", kind=\"count\", palette=\"rocket_r\", data=data)\n",
    "#g.fig.suptitle(\"Would you return to live in Bulgaria? (binary)\",x = 0.5, y =1.06, fontsize = 14) \n",
    "g.set_axis_labels(\"\" ,\"Count\", fontsize=12)\n",
    "g.set_xticklabels([\"1 - Yes\", \"0 - No\"], fontsize=12)\n",
    "#plt.xticks(rotation=45)\n",
    "\n",
    "# Adding the values over the bars\n",
    "ax = g.facet_axis(0,0)\n",
    "for p in ax.patches:\n",
    "    ax.text(p.get_x() +0.35 , \n",
    "            p.get_height() * 1.03, \n",
    "           '{0:.0f}'.format(p.get_height()), \n",
    "            color='black', \n",
    "            rotation='horizontal', \n",
    "            size='large')\n",
    "    \n",
    "plt.tight_layout()\n",
    "#plt.savefig('barplot_return_binary.png', bbox_inches='tight',  dpi=600) \n",
    "plt.show()\n",
    "\n",
    "#possible answers: 1- Yes, 2- Rather yes, 3 - Rather not, 4 - No.#"
   ]
  },
  {
   "cell_type": "code",
   "execution_count": 11,
   "id": "d37809db",
   "metadata": {},
   "outputs": [
    {
     "name": "stdout",
     "output_type": "stream",
     "text": [
      "Percentage of 0s (Return: No) 60.5\n",
      "Percentage of 1s (Return: Yes) 39.5\n"
     ]
    }
   ],
   "source": [
    "print(\"Percentage of 0s (Return: No)\", round((340/ 562)*100,2))\n",
    "print(\"Percentage of 1s (Return: Yes)\", round((222/ 562)*100,2))"
   ]
  },
  {
   "cell_type": "markdown",
   "id": "d7d3a9b9",
   "metadata": {},
   "source": [
    "# 2. Return and Gender "
   ]
  },
  {
   "cell_type": "code",
   "execution_count": 12,
   "id": "e11397cf",
   "metadata": {},
   "outputs": [
    {
     "data": {
      "text/html": [
       "<div>\n",
       "<style scoped>\n",
       "    .dataframe tbody tr th:only-of-type {\n",
       "        vertical-align: middle;\n",
       "    }\n",
       "\n",
       "    .dataframe tbody tr th {\n",
       "        vertical-align: top;\n",
       "    }\n",
       "\n",
       "    .dataframe thead th {\n",
       "        text-align: right;\n",
       "    }\n",
       "</style>\n",
       "<table border=\"1\" class=\"dataframe\">\n",
       "  <thead>\n",
       "    <tr style=\"text-align: right;\">\n",
       "      <th>q4</th>\n",
       "      <th>0.0</th>\n",
       "      <th>1.0</th>\n",
       "    </tr>\n",
       "    <tr>\n",
       "      <th>return</th>\n",
       "      <th></th>\n",
       "      <th></th>\n",
       "    </tr>\n",
       "  </thead>\n",
       "  <tbody>\n",
       "    <tr>\n",
       "      <th>0</th>\n",
       "      <td>212</td>\n",
       "      <td>128</td>\n",
       "    </tr>\n",
       "    <tr>\n",
       "      <th>1</th>\n",
       "      <td>126</td>\n",
       "      <td>96</td>\n",
       "    </tr>\n",
       "  </tbody>\n",
       "</table>\n",
       "</div>"
      ],
      "text/plain": [
       "q4      0.0  1.0\n",
       "return          \n",
       "0       212  128\n",
       "1       126   96"
      ]
     },
     "metadata": {},
     "output_type": "display_data"
    },
    {
     "data": {
      "text/html": [
       "<div>\n",
       "<style scoped>\n",
       "    .dataframe tbody tr th:only-of-type {\n",
       "        vertical-align: middle;\n",
       "    }\n",
       "\n",
       "    .dataframe tbody tr th {\n",
       "        vertical-align: top;\n",
       "    }\n",
       "\n",
       "    .dataframe thead th {\n",
       "        text-align: right;\n",
       "    }\n",
       "</style>\n",
       "<table border=\"1\" class=\"dataframe\">\n",
       "  <thead>\n",
       "    <tr style=\"text-align: right;\">\n",
       "      <th>q4</th>\n",
       "      <th>0.0</th>\n",
       "      <th>1.0</th>\n",
       "    </tr>\n",
       "    <tr>\n",
       "      <th>return</th>\n",
       "      <th></th>\n",
       "      <th></th>\n",
       "    </tr>\n",
       "  </thead>\n",
       "  <tbody>\n",
       "    <tr>\n",
       "      <th>0</th>\n",
       "      <td>0.623529</td>\n",
       "      <td>0.376471</td>\n",
       "    </tr>\n",
       "    <tr>\n",
       "      <th>1</th>\n",
       "      <td>0.567568</td>\n",
       "      <td>0.432432</td>\n",
       "    </tr>\n",
       "  </tbody>\n",
       "</table>\n",
       "</div>"
      ],
      "text/plain": [
       "q4           0.0       1.0\n",
       "return                    \n",
       "0       0.623529  0.376471\n",
       "1       0.567568  0.432432"
      ]
     },
     "metadata": {},
     "output_type": "display_data"
    }
   ],
   "source": [
    "# Cross tabs \n",
    "display(pd.crosstab(data['return'], data['q4'])) # 0 female, 1 male\n",
    "display(pd.crosstab(data['return'], data['q4'], normalize='index'))\n",
    "# Female higher percentage than men "
   ]
  },
  {
   "cell_type": "code",
   "execution_count": 13,
   "id": "e21438a8",
   "metadata": {},
   "outputs": [
    {
     "data": {
      "image/png": "[encoded data removed]",
      "text/plain": [
       "<Figure size 1000x1000 with 1 Axes>"
      ]
     },
     "metadata": {},
     "output_type": "display_data"
    }
   ],
   "source": [
    "# Stacked barplot for education categories and return \n",
    "sns.set_style(\"whitegrid\")\n",
    "sns.set_context(\"poster\")\n",
    "plt.rcParams[\"font.weight\"] = \"bold\"\n",
    "plt.rcParams[\"axes.labelweight\"] = \"bold\"\n",
    "\n",
    "plt.figure(figsize=(10,10)) \n",
    "\n",
    "# df_grouped_0_list = pd.Series([0,0,0,0,70,130,120,20])\n",
    "# df_grouped_1_list = pd.Series([0,0,0,2,66,70,66,18])\n",
    "# df_grouped_list = pd.Series([0,0,0, 2, 136, 200, 186, 38])\n",
    "\n",
    "df_grouped_0_list = pd.Series([212, 126]) # no return \n",
    "df_grouped_1_list = pd.Series([128, 96]) # yes return \n",
    "df_grouped_list = pd.Series([340 ,222]) # total \n",
    "\n",
    "N = len(df_grouped_list)\n",
    "count_no_0 = (df_grouped_0_list[0:2]/df_grouped_list[0:2]*100).tolist()  # when devided shows the percentage \n",
    "count_yes_1 = (df_grouped_1_list[0:2]/df_grouped_list[0:2]*100).tolist()\n",
    "\n",
    "ind = np.arange(N)    # the x locations for the groups\n",
    "width = 0.8    # the width of the bars: can also be len(x) sequence\n",
    "\n",
    "p1 = plt.bar(ind, count_no_0, color=['#ad1759'], width = width )  # bottom \n",
    "p2 = plt.bar(ind, count_yes_1,\n",
    "             bottom=count_no_0, color = ['#f6b48f'], width = width)\n",
    "\n",
    "plt.ylabel('Percentage', fontsize = 24)\n",
    "#plt.title('Gender and return intentions', fontsize = 24, x = 0.5, y =1.03) # title position \n",
    "\n",
    "plt.xticks(ind, ('Return- No ', \"Return - Yes\"), fontsize = 24) # removed \"Master's degree\" --> no observations\n",
    "\n",
    "\n",
    "plt.yticks(np.arange(0, 101, 10), fontsize = 24) # y ticks\n",
    "plt.ylim(0, 100) # sets the y axis limits\n",
    "plt.legend((p1[0], p2[0]), ( 'Male', 'Female'), fontsize = 24,  bbox_to_anchor=(1, 0.13)) #   bbox_to_anchor=(1, 0.1) # ,loc=1\n",
    "\n",
    "# Showing the values\n",
    "for r1, r2 in zip(p1, p2):\n",
    "    h1 = r1.get_height()\n",
    "    h2 = r2.get_height()\n",
    "    plt.text(r1.get_x() + r1.get_width() / 2., h1 / 2., '%.1f%%' % h1, ha=\"center\", va=\"center\", color=\"black\", fontsize=24) #\"%.1f\" 2 decimal digiits no % sign  \n",
    "    plt.text(r2.get_x() + r2.get_width() / 2., h1 + h2 / 2., '%.1f%%' % h2, ha=\"center\", va=\"center\", color=\"black\", fontsize=24) # fontweight=\"bold\"\n",
    "\n",
    "plt.legend((p1[0], p2[0]), ('Male ', 'Female'), fontsize = 20,loc = 'best', bbox_to_anchor= (0.8, -0.1), ncol= 2)  #   bbox_to_anchor=(1, 0.1) # ,loc=1 # bbox_to_anchor = (1, 0.14)\n",
    "\n",
    "#plt.xticks(rotation=-45)\n",
    "#plt.savefig('gender_return_intention.png', bbox_inches='tight',  dpi=600) \n",
    "plt.show()"
   ]
  },
  {
   "cell_type": "markdown",
   "id": "9e5c8d4a",
   "metadata": {},
   "source": [
    "# 3. Return and age "
   ]
  },
  {
   "cell_type": "code",
   "execution_count": 14,
   "id": "77718336",
   "metadata": {},
   "outputs": [
    {
     "data": {
      "text/html": [
       "<div>\n",
       "<style scoped>\n",
       "    .dataframe tbody tr th:only-of-type {\n",
       "        vertical-align: middle;\n",
       "    }\n",
       "\n",
       "    .dataframe tbody tr th {\n",
       "        vertical-align: top;\n",
       "    }\n",
       "\n",
       "    .dataframe thead th {\n",
       "        text-align: right;\n",
       "    }\n",
       "</style>\n",
       "<table border=\"1\" class=\"dataframe\">\n",
       "  <thead>\n",
       "    <tr style=\"text-align: right;\">\n",
       "      <th></th>\n",
       "      <th>Category</th>\n",
       "      <th>Count</th>\n",
       "    </tr>\n",
       "  </thead>\n",
       "  <tbody>\n",
       "    <tr>\n",
       "      <th>1</th>\n",
       "      <td>1.0</td>\n",
       "      <td>102</td>\n",
       "    </tr>\n",
       "    <tr>\n",
       "      <th>3</th>\n",
       "      <td>2.0</td>\n",
       "      <td>91</td>\n",
       "    </tr>\n",
       "    <tr>\n",
       "      <th>4</th>\n",
       "      <td>3.0</td>\n",
       "      <td>90</td>\n",
       "    </tr>\n",
       "    <tr>\n",
       "      <th>0</th>\n",
       "      <td>4.0</td>\n",
       "      <td>104</td>\n",
       "    </tr>\n",
       "    <tr>\n",
       "      <th>2</th>\n",
       "      <td>5.0</td>\n",
       "      <td>102</td>\n",
       "    </tr>\n",
       "    <tr>\n",
       "      <th>5</th>\n",
       "      <td>6.0</td>\n",
       "      <td>77</td>\n",
       "    </tr>\n",
       "    <tr>\n",
       "      <th>7</th>\n",
       "      <td>7.0</td>\n",
       "      <td>54</td>\n",
       "    </tr>\n",
       "    <tr>\n",
       "      <th>6</th>\n",
       "      <td>8.0</td>\n",
       "      <td>54</td>\n",
       "    </tr>\n",
       "  </tbody>\n",
       "</table>\n",
       "</div>"
      ],
      "text/plain": [
       "   Category  Count\n",
       "1       1.0    102\n",
       "3       2.0     91\n",
       "4       3.0     90\n",
       "0       4.0    104\n",
       "2       5.0    102\n",
       "5       6.0     77\n",
       "7       7.0     54\n",
       "6       8.0     54"
      ]
     },
     "execution_count": 14,
     "metadata": {},
     "output_type": "execute_result"
    }
   ],
   "source": [
    "df_age_cat = pd.DataFrame(data[\"q5_rec\"].value_counts())\n",
    "df_age_cat.reset_index(inplace = True)\n",
    "df_age_cat.columns = [\"Category\", \"Count\"]\n",
    "df_age_cat = df_age_cat.sort_values(by = \"Category\")\n",
    "df_age_cat"
   ]
  },
  {
   "cell_type": "code",
   "execution_count": 15,
   "id": "f96145d0",
   "metadata": {},
   "outputs": [
    {
     "data": {
      "image/png": "[encoded data removed]",
      "text/plain": [
       "<Figure size 500x500 with 1 Axes>"
      ]
     },
     "metadata": {},
     "output_type": "display_data"
    }
   ],
   "source": [
    "sns.set_context(\"paper\")\n",
    "sns.set_style(\"whitegrid\")\n",
    "\n",
    "g = sns.catplot(x=\"q5_rec\", kind=\"count\", palette=\"rocket_r\", data=data)\n",
    "#g.fig.suptitle(\"Would you return to live in Bulgaria? (binary)\",x = 0.5, y =1.06, fontsize = 14) \n",
    "g.set_axis_labels(\"\" ,\"Count\", fontsize=12)\n",
    "g.set_xticklabels([\"1 \", \"2\" ,\"3\", \"4\", \"5\", \"6\", \"7\", \"8\"], fontsize=12)\n",
    "#plt.xticks(rotation=45)\n",
    "\n",
    "# Adding the values over the bars\n",
    "ax = g.facet_axis(0,0)\n",
    "for p in ax.patches:\n",
    "    ax.text(p.get_x(),  #+ 0.35 , \n",
    "             p.get_height() , #* 1.03, \n",
    "            '{0:.0f}'.format(p.get_height()), \n",
    "             color='black', \n",
    "             rotation='horizontal', \n",
    "             size='large')\n",
    "    \n",
    "plt.tight_layout()\n",
    "#plt.savefig('barplot_return_binary.png', bbox_inches='tight',  dpi=600) \n",
    "plt.show()"
   ]
  },
  {
   "cell_type": "code",
   "execution_count": 16,
   "id": "c440a3e5",
   "metadata": {},
   "outputs": [
    {
     "name": "stdout",
     "output_type": "stream",
     "text": [
      "   Variable      N       Mean         SD        SE  95% Conf.   Interval\n",
      "0        No  340.0  35.582353  11.928832  0.646932  34.309847  36.854859\n",
      "1       Yes  222.0  34.981982  10.282861  0.690140  33.621883  36.342081\n",
      "2  combined  562.0  35.345196  11.301652  0.476731  34.408799  36.281592\n",
      "          Independent t-test   results\n",
      "0   Difference (No - Yes) =     0.6004\n",
      "1      Degrees of freedom =   560.0000\n",
      "2                       t =     0.6153\n",
      "3   Two side test p value =     0.5386\n",
      "4  Difference < 0 p value =     0.7307\n",
      "5  Difference > 0 p value =     0.2693\n",
      "6               Cohen's d =     0.0531\n",
      "7               Hedge's g =     0.0530\n",
      "8          Glass's delta1 =     0.0503\n",
      "9        Point-Biserial r =     0.0260\n"
     ]
    },
    {
     "name": "stderr",
     "output_type": "stream",
     "text": [
      "C:\\Users\\marij\\anaconda3\\lib\\site-packages\\researchpy\\ttest.py:38: FutureWarning: The series.append method is deprecated and will be removed from pandas in a future version. Use pandas.concat instead.\n",
      "  groups = group1.append(group2, ignore_index= True)\n"
     ]
    },
    {
     "data": {
      "text/plain": [
       "Ttest_indResult(statistic=0.6152971233158697, pvalue=0.5386084754137253)"
      ]
     },
     "execution_count": 16,
     "metadata": {},
     "output_type": "execute_result"
    }
   ],
   "source": [
    "# T- test \n",
    "#data_1 = data[data['return'] == '1']\n",
    "#data_0 = data[data['return'] == '0']\n",
    "\n",
    "# Perform a t-test see if the mean values in the two groups are identical\n",
    "# Null mean1 = mean2 \n",
    "import researchpy as rp\n",
    "import scipy.stats as stats\n",
    "\n",
    "summary, results = rp.ttest(group1= data['q5'][data['return'] == '0'], group1_name= \"No\",\n",
    "         group2= data['q5'][data['return'] == '1'], group2_name= \"Yes\")\n",
    "\n",
    "print(summary)\n",
    "print(results)\n",
    "\n",
    "# Alternative way\n",
    "stats.ttest_ind(data['q5'][data['return'] == '0'],data['q5'][data['return'] == '1'])\n",
    "\n",
    "# https://www.pythonfordatascience.org/independent-samples-t-test-python/\n",
    "# p-value of p-value = 0.5386, we cannot reject the Null hypothesis of identical means. That means there is not significant difference betweehn the values. "
   ]
  },
  {
   "cell_type": "markdown",
   "id": "6aecbee4",
   "metadata": {},
   "source": [
    "The test measures whether the average (expected) value differs significantly across samples. If we observe a large p-value, for example larger than 0.05 or 0.1, then we cannot reject the null hypothesis of identical average scores. If the p-value is smaller than the threshold, e.g. 1%, 5% or 10%, then we reject the null hypothesis of equal averages."
   ]
  },
  {
   "cell_type": "markdown",
   "id": "e5a9d8e6",
   "metadata": {},
   "source": [
    "# 4. Income and return "
   ]
  },
  {
   "cell_type": "code",
   "execution_count": 17,
   "id": "173d53d1",
   "metadata": {},
   "outputs": [
    {
     "data": {
      "text/html": [
       "<svg  width=\"330\" height=\"55\"><rect x=\"0\" y=\"0\" width=\"55\" height=\"55\" style=\"fill:#35193e;stroke-width:2;stroke:rgb(255,255,255)\"/><rect x=\"55\" y=\"0\" width=\"55\" height=\"55\" style=\"fill:#701f57;stroke-width:2;stroke:rgb(255,255,255)\"/><rect x=\"110\" y=\"0\" width=\"55\" height=\"55\" style=\"fill:#ad1759;stroke-width:2;stroke:rgb(255,255,255)\"/><rect x=\"165\" y=\"0\" width=\"55\" height=\"55\" style=\"fill:#e13342;stroke-width:2;stroke:rgb(255,255,255)\"/><rect x=\"220\" y=\"0\" width=\"55\" height=\"55\" style=\"fill:#f37651;stroke-width:2;stroke:rgb(255,255,255)\"/><rect x=\"275\" y=\"0\" width=\"55\" height=\"55\" style=\"fill:#f6b48f;stroke-width:2;stroke:rgb(255,255,255)\"/></svg>"
      ],
      "text/plain": [
       "['#35193e', '#701f57', '#ad1759', '#e13342', '#f37651', '#f6b48f']"
      ]
     },
     "metadata": {},
     "output_type": "display_data"
    },
    {
     "name": "stdout",
     "output_type": "stream",
     "text": [
      "['#35193e', '#701f57', '#ad1759', '#e13342', '#f37651', '#f6b48f']\n"
     ]
    }
   ],
   "source": [
    "import seaborn as sns\n",
    "pal = sns.color_palette(\"rocket\")\n",
    "display(pal.as_hex())\n",
    "pal_codes = sns.color_palette(\"rocket\").as_hex()\n",
    "print(pal_codes)"
   ]
  },
  {
   "cell_type": "code",
   "execution_count": 18,
   "id": "499ea594",
   "metadata": {},
   "outputs": [
    {
     "data": {
      "text/html": [
       "<div>\n",
       "<style scoped>\n",
       "    .dataframe tbody tr th:only-of-type {\n",
       "        vertical-align: middle;\n",
       "    }\n",
       "\n",
       "    .dataframe tbody tr th {\n",
       "        vertical-align: top;\n",
       "    }\n",
       "\n",
       "    .dataframe thead th {\n",
       "        text-align: right;\n",
       "    }\n",
       "</style>\n",
       "<table border=\"1\" class=\"dataframe\">\n",
       "  <thead>\n",
       "    <tr style=\"text-align: right;\">\n",
       "      <th>q18_rec</th>\n",
       "      <th>0.0</th>\n",
       "      <th>1.0</th>\n",
       "      <th>2.0</th>\n",
       "      <th>3.0</th>\n",
       "      <th>4.0</th>\n",
       "      <th>5.0</th>\n",
       "      <th>6.0</th>\n",
       "      <th>7.0</th>\n",
       "    </tr>\n",
       "    <tr>\n",
       "      <th>return</th>\n",
       "      <th></th>\n",
       "      <th></th>\n",
       "      <th></th>\n",
       "      <th></th>\n",
       "      <th></th>\n",
       "      <th></th>\n",
       "      <th></th>\n",
       "      <th></th>\n",
       "    </tr>\n",
       "  </thead>\n",
       "  <tbody>\n",
       "    <tr>\n",
       "      <th>0</th>\n",
       "      <td>10</td>\n",
       "      <td>36</td>\n",
       "      <td>56</td>\n",
       "      <td>66</td>\n",
       "      <td>50</td>\n",
       "      <td>28</td>\n",
       "      <td>10</td>\n",
       "      <td>62</td>\n",
       "    </tr>\n",
       "    <tr>\n",
       "      <th>1</th>\n",
       "      <td>16</td>\n",
       "      <td>30</td>\n",
       "      <td>46</td>\n",
       "      <td>38</td>\n",
       "      <td>26</td>\n",
       "      <td>12</td>\n",
       "      <td>8</td>\n",
       "      <td>34</td>\n",
       "    </tr>\n",
       "  </tbody>\n",
       "</table>\n",
       "</div>"
      ],
      "text/plain": [
       "q18_rec  0.0  1.0  2.0  3.0  4.0  5.0  6.0  7.0\n",
       "return                                         \n",
       "0         10   36   56   66   50   28   10   62\n",
       "1         16   30   46   38   26   12    8   34"
      ]
     },
     "execution_count": 18,
     "metadata": {},
     "output_type": "execute_result"
    }
   ],
   "source": [
    "pd.crosstab(data['return'], data['q18_rec'])"
   ]
  },
  {
   "cell_type": "code",
   "execution_count": 19,
   "id": "179c47fe",
   "metadata": {},
   "outputs": [],
   "source": [
    "# Stacked bar graph, income and return  0 - no income, 7 - above 3500 euros, #q18_rec\n",
    "\n",
    "df_grouped = data[[\"q18_rec\", \"return\"]].groupby([ 'return','q18_rec']).count().unstack()\n",
    "\n",
    "df_grouped = data[[\"q18_rec\", \"return\"]].groupby([ 'q18_rec']).count().unstack()\n",
    "df_grouped_0 = data[data[\"return\"]== '0'][[\"q18_rec\", \"return\"]].groupby([ 'q18_rec']).count().unstack()\n",
    "df_grouped_1 = data[data[\"return\"]== '1'][[\"q18_rec\", \"return\"]].groupby([ 'q18_rec']).count().unstack()\n",
    "\n",
    "#print(df_grouped)\n",
    "#print(df_grouped_0)\n",
    "#print(df_grouped_1)\n",
    "# Created a table in the adta descriptio excel file: Income categories and return. Count\n",
    "# print(df_grouped_0/df_grouped*100)\n",
    "# print(df_grouped_1/df_grouped*100)"
   ]
  },
  {
   "cell_type": "code",
   "execution_count": 20,
   "id": "4cc9efa2",
   "metadata": {},
   "outputs": [
    {
     "data": {
      "image/png": "[encoded data removed]",
      "text/plain": [
       "<Figure size 4000x2000 with 1 Axes>"
      ]
     },
     "metadata": {},
     "output_type": "display_data"
    }
   ],
   "source": [
    "sns.set_style(\"whitegrid\")\n",
    "sns.set_context(\"poster\")\n",
    "\n",
    "# Make everything bold \n",
    "plt.rcParams[\"font.weight\"] = \"bold\"\n",
    "plt.rcParams[\"axes.labelweight\"] = \"bold\"\n",
    "plt.figure(figsize=(40,20)) \n",
    "\n",
    "N = len(df_grouped)\n",
    "count_no_0 = (df_grouped_0/df_grouped*100).tolist()  # when devided shows the percentage \n",
    "count_yes_1 = (df_grouped_1/df_grouped*100).tolist()\n",
    "\n",
    "ind = np.arange(N)    # the x locations for the groups\n",
    "width = 0.8    # the width of the bars: can also be len(x) sequence\n",
    "\n",
    "p1 = plt.bar(ind, count_no_0, color=['#ad1759'], width = width , label = [\"0 - No\"])  # bottom \n",
    "p2 = plt.bar(ind, count_yes_1,\n",
    "             bottom=count_no_0, color = ['#f6b48f'], width = width, label = [\"1 - Yes\"])\n",
    "\n",
    "plt.ylabel('Percentage', fontsize = 20)\n",
    "#plt.title('Percentage of people who would return or not grouped by income category (in Euros)', fontsize = 24, x = 0.5, y =1.03) # title position \n",
    "\n",
    "plt.xticks(ind, ('no income' , 'under 1000 Euros', '1001 to 1500 Euros', \n",
    "                 '1501 to 2000 Euros', '2001 to 2500 Euros', \n",
    "                 '2501 to 3000 Euros', '3001 to 3500 Euros', \n",
    "                 'above 3501 Euros'), fontsize = 18)\n",
    "\n",
    "plt.yticks(np.arange(0, 101, 10), fontsize = 18) # y ticks\n",
    "plt.ylim(0, 100) # sets the y axis limits\n",
    "\n",
    "plt.legend((p1[0], p2[0]), ('0 - No ', '1 - Yes'), fontsize = 20,loc = 'best', bbox_to_anchor= (0.6, -0.1), ncol= 2)  #   bbox_to_anchor=(1, 0.1) # ,loc=1 # bbox_to_anchor = (1, 0.14)\n",
    "\n",
    "# Showing the values\n",
    "for r1, r2 in zip(p1, p2):\n",
    "    h1 = r1.get_height()\n",
    "    h2 = r2.get_height()\n",
    "    plt.text(r1.get_x() + r1.get_width() / 2., h1 / 2., '%.1f%%' % h1, ha=\"center\", va=\"center\", color=\"black\", fontsize=20) #\"%.1f\" 2 decimal digiits no % sign  \n",
    "    plt.text(r2.get_x() + r2.get_width() / 2., h1 + h2 / 2., '%.1f%%' % h2, ha=\"center\", va=\"center\", color=\"black\", fontsize=20) # fontweight=\"bold\"\n",
    "    \n",
    "#plt.xticks(rotation=-45)\n",
    "#plt.savefig('income_return_stacked_barplot.pdf', bbox_inches='tight',  dpi=600) \n",
    "plt.show()"
   ]
  },
  {
   "cell_type": "markdown",
   "id": "a8a8c53a",
   "metadata": {},
   "source": [
    "# 5. Education in Bulgaria and return"
   ]
  },
  {
   "cell_type": "code",
   "execution_count": 21,
   "id": "446e1d58",
   "metadata": {},
   "outputs": [
    {
     "ename": "KeyError",
     "evalue": "'q6'",
     "output_type": "error",
     "traceback": [
      "\u001b[1;31m---------------------------------------------------------------------------\u001b[0m",
      "\u001b[1;31mKeyError\u001b[0m                                  Traceback (most recent call last)",
      "\u001b[1;32m~\\anaconda3\\lib\\site-packages\\pandas\\core\\indexes\\base.py\u001b[0m in \u001b[0;36mget_loc\u001b[1;34m(self, key, method, tolerance)\u001b[0m\n\u001b[0;32m   3628\u001b[0m             \u001b[1;32mtry\u001b[0m\u001b[1;33m:\u001b[0m\u001b[1;33m\u001b[0m\u001b[1;33m\u001b[0m\u001b[0m\n\u001b[1;32m-> 3629\u001b[1;33m                 \u001b[1;32mreturn\u001b[0m \u001b[0mself\u001b[0m\u001b[1;33m.\u001b[0m\u001b[0m_engine\u001b[0m\u001b[1;33m.\u001b[0m\u001b[0mget_loc\u001b[0m\u001b[1;33m(\u001b[0m\u001b[0mcasted_key\u001b[0m\u001b[1;33m)\u001b[0m\u001b[1;33m\u001b[0m\u001b[1;33m\u001b[0m\u001b[0m\n\u001b[0m\u001b[0;32m   3630\u001b[0m             \u001b[1;32mexcept\u001b[0m \u001b[0mKeyError\u001b[0m \u001b[1;32mas\u001b[0m \u001b[0merr\u001b[0m\u001b[1;33m:\u001b[0m\u001b[1;33m\u001b[0m\u001b[1;33m\u001b[0m\u001b[0m\n",
      "\u001b[1;32m~\\anaconda3\\lib\\site-packages\\pandas\\_libs\\index.pyx\u001b[0m in \u001b[0;36mpandas._libs.index.IndexEngine.get_loc\u001b[1;34m()\u001b[0m\n",
      "\u001b[1;32m~\\anaconda3\\lib\\site-packages\\pandas\\_libs\\index.pyx\u001b[0m in \u001b[0;36mpandas._libs.index.IndexEngine.get_loc\u001b[1;34m()\u001b[0m\n",
      "\u001b[1;32mpandas\\_libs\\hashtable_class_helper.pxi\u001b[0m in \u001b[0;36mpandas._libs.hashtable.PyObjectHashTable.get_item\u001b[1;34m()\u001b[0m\n",
      "\u001b[1;32mpandas\\_libs\\hashtable_class_helper.pxi\u001b[0m in \u001b[0;36mpandas._libs.hashtable.PyObjectHashTable.get_item\u001b[1;34m()\u001b[0m\n",
      "\u001b[1;31mKeyError\u001b[0m: 'q6'",
      "\nThe above exception was the direct cause of the following exception:\n",
      "\u001b[1;31mKeyError\u001b[0m                                  Traceback (most recent call last)",
      "\u001b[1;32m~\\AppData\\Local\\Temp\\ipykernel_19984\\3862364269.py\u001b[0m in \u001b[0;36m<module>\u001b[1;34m\u001b[0m\n\u001b[0;32m      2\u001b[0m \u001b[0mdata\u001b[0m \u001b[1;33m=\u001b[0m \u001b[0mpd\u001b[0m\u001b[1;33m.\u001b[0m\u001b[0mread_csv\u001b[0m\u001b[1;33m(\u001b[0m\u001b[1;34m\"Appendix_MariyaHristova_11250_Feb2023_data_clean.csv\"\u001b[0m\u001b[1;33m)\u001b[0m\u001b[1;33m\u001b[0m\u001b[1;33m\u001b[0m\u001b[0m\n\u001b[0;32m      3\u001b[0m \u001b[1;33m\u001b[0m\u001b[0m\n\u001b[1;32m----> 4\u001b[1;33m \u001b[0mpd\u001b[0m\u001b[1;33m.\u001b[0m\u001b[0mcrosstab\u001b[0m\u001b[1;33m(\u001b[0m\u001b[0mdata\u001b[0m\u001b[1;33m[\u001b[0m\u001b[1;34m'return'\u001b[0m\u001b[1;33m]\u001b[0m\u001b[1;33m,\u001b[0m \u001b[0mdata\u001b[0m\u001b[1;33m[\u001b[0m\u001b[1;34m'q6'\u001b[0m\u001b[1;33m]\u001b[0m\u001b[1;33m)\u001b[0m\u001b[1;33m\u001b[0m\u001b[1;33m\u001b[0m\u001b[0m\n\u001b[0m",
      "\u001b[1;32m~\\anaconda3\\lib\\site-packages\\pandas\\core\\frame.py\u001b[0m in \u001b[0;36m__getitem__\u001b[1;34m(self, key)\u001b[0m\n\u001b[0;32m   3503\u001b[0m             \u001b[1;32mif\u001b[0m \u001b[0mself\u001b[0m\u001b[1;33m.\u001b[0m\u001b[0mcolumns\u001b[0m\u001b[1;33m.\u001b[0m\u001b[0mnlevels\u001b[0m \u001b[1;33m>\u001b[0m \u001b[1;36m1\u001b[0m\u001b[1;33m:\u001b[0m\u001b[1;33m\u001b[0m\u001b[1;33m\u001b[0m\u001b[0m\n\u001b[0;32m   3504\u001b[0m                 \u001b[1;32mreturn\u001b[0m \u001b[0mself\u001b[0m\u001b[1;33m.\u001b[0m\u001b[0m_getitem_multilevel\u001b[0m\u001b[1;33m(\u001b[0m\u001b[0mkey\u001b[0m\u001b[1;33m)\u001b[0m\u001b[1;33m\u001b[0m\u001b[1;33m\u001b[0m\u001b[0m\n\u001b[1;32m-> 3505\u001b[1;33m             \u001b[0mindexer\u001b[0m \u001b[1;33m=\u001b[0m \u001b[0mself\u001b[0m\u001b[1;33m.\u001b[0m\u001b[0mcolumns\u001b[0m\u001b[1;33m.\u001b[0m\u001b[0mget_loc\u001b[0m\u001b[1;33m(\u001b[0m\u001b[0mkey\u001b[0m\u001b[1;33m)\u001b[0m\u001b[1;33m\u001b[0m\u001b[1;33m\u001b[0m\u001b[0m\n\u001b[0m\u001b[0;32m   3506\u001b[0m             \u001b[1;32mif\u001b[0m \u001b[0mis_integer\u001b[0m\u001b[1;33m(\u001b[0m\u001b[0mindexer\u001b[0m\u001b[1;33m)\u001b[0m\u001b[1;33m:\u001b[0m\u001b[1;33m\u001b[0m\u001b[1;33m\u001b[0m\u001b[0m\n\u001b[0;32m   3507\u001b[0m                 \u001b[0mindexer\u001b[0m \u001b[1;33m=\u001b[0m \u001b[1;33m[\u001b[0m\u001b[0mindexer\u001b[0m\u001b[1;33m]\u001b[0m\u001b[1;33m\u001b[0m\u001b[1;33m\u001b[0m\u001b[0m\n",
      "\u001b[1;32m~\\anaconda3\\lib\\site-packages\\pandas\\core\\indexes\\base.py\u001b[0m in \u001b[0;36mget_loc\u001b[1;34m(self, key, method, tolerance)\u001b[0m\n\u001b[0;32m   3629\u001b[0m                 \u001b[1;32mreturn\u001b[0m \u001b[0mself\u001b[0m\u001b[1;33m.\u001b[0m\u001b[0m_engine\u001b[0m\u001b[1;33m.\u001b[0m\u001b[0mget_loc\u001b[0m\u001b[1;33m(\u001b[0m\u001b[0mcasted_key\u001b[0m\u001b[1;33m)\u001b[0m\u001b[1;33m\u001b[0m\u001b[1;33m\u001b[0m\u001b[0m\n\u001b[0;32m   3630\u001b[0m             \u001b[1;32mexcept\u001b[0m \u001b[0mKeyError\u001b[0m \u001b[1;32mas\u001b[0m \u001b[0merr\u001b[0m\u001b[1;33m:\u001b[0m\u001b[1;33m\u001b[0m\u001b[1;33m\u001b[0m\u001b[0m\n\u001b[1;32m-> 3631\u001b[1;33m                 \u001b[1;32mraise\u001b[0m \u001b[0mKeyError\u001b[0m\u001b[1;33m(\u001b[0m\u001b[0mkey\u001b[0m\u001b[1;33m)\u001b[0m \u001b[1;32mfrom\u001b[0m \u001b[0merr\u001b[0m\u001b[1;33m\u001b[0m\u001b[1;33m\u001b[0m\u001b[0m\n\u001b[0m\u001b[0;32m   3632\u001b[0m             \u001b[1;32mexcept\u001b[0m \u001b[0mTypeError\u001b[0m\u001b[1;33m:\u001b[0m\u001b[1;33m\u001b[0m\u001b[1;33m\u001b[0m\u001b[0m\n\u001b[0;32m   3633\u001b[0m                 \u001b[1;31m# If we have a listlike key, _check_indexing_error will raise\u001b[0m\u001b[1;33m\u001b[0m\u001b[1;33m\u001b[0m\u001b[0m\n",
      "\u001b[1;31mKeyError\u001b[0m: 'q6'"
     ]
    }
   ],
   "source": [
    "# Import the data where the variale education is already derived\n",
    "data = pd.read_csv(\"Appendix_MariyaHristova_11250_Feb2023_data_clean.csv\")\n",
    "\n",
    "pd.crosstab(data['return'], data['q6'])"
   ]
  },
  {
   "cell_type": "code",
   "execution_count": null,
   "id": "d0030ef9",
   "metadata": {},
   "outputs": [],
   "source": [
    "data['q18_rec'].unique()"
   ]
  },
  {
   "cell_type": "code",
   "execution_count": null,
   "id": "9efc63ba",
   "metadata": {},
   "outputs": [],
   "source": [
    "value_counts_edu_bg = pd.DataFrame(data['education'].value_counts())\n",
    "value_counts_edu_bg.reset_index(inplace = True)\n",
    "value_counts_edu_bg.sort_values(by = 'index', ascending = True)"
   ]
  },
  {
   "cell_type": "code",
   "execution_count": null,
   "id": "253674b6",
   "metadata": {},
   "outputs": [],
   "source": [
    "# Education acquired in Bulgaria: q6, 0 - lowest, 7 - highest \n",
    "\n",
    "# 0-  I have no education acquired in Bulgaria\n",
    "# 1-  Lower than elementary education \n",
    "# 2-  Elementary education \n",
    "# 3-  Primary education \n",
    "# 4-  Secondary education\n",
    "# 5-  Higher - Bachelor's degree\n",
    "# 6-  Higher - Master's degree\n",
    "# 7 - Higher - degree \"PhD\"\n",
    "\n",
    "# Stacked bar graph, education and return \n",
    "\n",
    "df_grouped = data[[\"q6\", \"return\"]].groupby([ 'return','q6']).count().unstack()\n",
    "\n",
    "df_grouped = data[[\"q6\", \"return\"]].groupby([ 'q6']).count().unstack()\n",
    "df_grouped_0 = data[data[\"return\"]== 0][[\"q6\", \"return\"]].groupby([ 'q6']).count().unstack()\n",
    "df_grouped_1 = data[data[\"return\"]== 1][[\"q6\", \"return\"]].groupby([ 'q6']).count().unstack()\n",
    "\n",
    "# print(df_grouped)\n",
    "# print(df_grouped_0)\n",
    "# print(df_grouped_1)\n"
   ]
  },
  {
   "cell_type": "code",
   "execution_count": null,
   "id": "3f6f56ba",
   "metadata": {},
   "outputs": [],
   "source": [
    "import numpy as np\n",
    "import matplotlib.pyplot as plt\n",
    "\n",
    "sns.set_style(\"whitegrid\")\n",
    "sns.set_context(\"poster\")\n",
    "\n",
    "\n",
    "plt.figure(figsize=(30,15)) \n",
    "\n",
    "N = len(df_grouped)\n",
    "count_no_0 = (df_grouped_0/df_grouped*100).tolist()  # when devided shows the percentage \n",
    "count_yes_1 = (df_grouped_1/df_grouped*100).tolist()\n",
    "\n",
    "ind = np.arange(N)    # the x locations for the groups\n",
    "width = 0.8    # the width of the bars: can also be len(x) sequence\n",
    "\n",
    "p1 = plt.bar(ind, count_no_0, color=['#ad1759'], width = width )  # bottom \n",
    "p2 = plt.bar(ind, count_yes_1,\n",
    "             bottom=count_no_0, color = ['#f6b48f'], width = width)\n",
    "\n",
    "plt.ylabel('Percentage', fontsize = 20)\n",
    "#plt.title('Percentage of people who would return or not grouped by education category in BG', fontsize = 24, x = 0.5, y =1.03) # title position \n",
    "\n",
    "plt.xticks(ind, ('No education' , 'Lower than elementary', 'Elementary', \n",
    "                 'Primary', 'Secondary', \"Bachelor's degree\",  \"PhD\"), fontsize = 20) # removed \"Master's degree\" --> no observations\n",
    "\n",
    "\n",
    "plt.yticks(np.arange(0, 101, 10), fontsize = 20) # y ticks\n",
    "plt.ylim(0, 100) # sets the y axis limits\n",
    "plt.legend((p2[0], p1[0]), ('0 - No ', '1 - Yes'), fontsize = 20,  bbox_to_anchor=(1, 0.09)) #   bbox_to_anchor=(1, 0.1) # ,loc=1\n",
    "\n",
    "# Showing the values\n",
    "for r1, r2 in zip(p1, p2):\n",
    "    h1 = r1.get_height()\n",
    "    h2 = r2.get_height()\n",
    "    plt.text(r1.get_x() + r1.get_width() / 2., h1 / 2., '%.1f%%' % h1, ha=\"center\", va=\"center\", color=\"black\", fontsize=20) #\"%.1f\" 2 decimal digiits no % sign  \n",
    "    plt.text(r2.get_x() + r2.get_width() / 2., h1 + h2 / 2., '%.1f%%' % h2, ha=\"center\", va=\"center\", color=\"black\", fontsize=20) # fontweight=\"bold\"\n",
    "\n",
    "#plt.xticks(rotation=-45)\n",
    "#plt.savefig('income_return_stacked_barplot.pdf', bbox_inches='tight',  dpi=600) \n",
    "plt.show()"
   ]
  },
  {
   "cell_type": "markdown",
   "id": "803ec9f3",
   "metadata": {},
   "source": [
    "## Education abroad and return"
   ]
  },
  {
   "cell_type": "code",
   "execution_count": null,
   "id": "ab649aab",
   "metadata": {},
   "outputs": [],
   "source": [
    "pd.crosstab(data['return'], data['q7'])"
   ]
  },
  {
   "cell_type": "code",
   "execution_count": null,
   "id": "14d38b6d",
   "metadata": {},
   "outputs": [],
   "source": [
    "# Education acquired in Bulgaria: q6, 0 - lowest, 7 - highest \n",
    "\n",
    "# 0-  I have no education acquired in Bulgaria\n",
    "# 1-  Lower than elementary education \n",
    "# 2-  Elementary education \n",
    "# 3-  Primary education \n",
    "# 4-  Secondary education\n",
    "# 5-  Higher - Bachelor's degree\n",
    "# 6-  Higher - Master's degree\n",
    "# 7 - Higher - degree \"PhD\"\n",
    "\n",
    "# Stacked bar graph, education and return \n",
    "\n",
    "df_grouped = data[[\"q7\", \"return\"]].groupby([ 'return','q7']).count().unstack()\n",
    "\n",
    "df_grouped = data[[\"q7\", \"return\"]].groupby([ 'q7']).count().unstack()\n",
    "df_grouped_0 = data[data[\"return\"]== 0][[\"q7\", \"return\"]].groupby([ 'q7']).count().unstack()\n",
    "df_grouped_1 = data[data[\"return\"]== 1][[\"q7\", \"return\"]].groupby([ 'q7']).count().unstack()\n",
    "\n",
    "# print(df_grouped)\n",
    "# print(df_grouped_0)\n",
    "# print(df_grouped_1)"
   ]
  },
  {
   "cell_type": "markdown",
   "id": "fcd27dcf",
   "metadata": {},
   "source": [
    "## Education abroad or in BG and return "
   ]
  },
  {
   "cell_type": "code",
   "execution_count": null,
   "id": "55df73db",
   "metadata": {},
   "outputs": [],
   "source": [
    "# Moved this part in the import and clean Notenook \n",
    "pd.crosstab(data['return'], data['education'])\n",
    "# eduaction_replace_map = {'Education ': {5:5 , 6:5, 7: 5}} \n",
    "# Combined the categories Bachelor's or Masters and PhD into one category, because there were not enough observations\n",
    "# data.replace(eduaction_replace_map, inplace=True)"
   ]
  },
  {
   "cell_type": "code",
   "execution_count": null,
   "id": "a6212594",
   "metadata": {},
   "outputs": [],
   "source": [
    "pd.crosstab(data['return'], data['education'])"
   ]
  },
  {
   "cell_type": "code",
   "execution_count": null,
   "id": "193a256c",
   "metadata": {},
   "outputs": [],
   "source": [
    "data['education'].value_counts()"
   ]
  },
  {
   "cell_type": "code",
   "execution_count": null,
   "id": "28f74cf3",
   "metadata": {},
   "outputs": [],
   "source": [
    "data[data['education'] == 0]['return']"
   ]
  },
  {
   "cell_type": "code",
   "execution_count": null,
   "id": "254a44db",
   "metadata": {},
   "outputs": [],
   "source": [
    "# Education acquired in Bulgaria: q6, 0 - lowest, 7 - highest \n",
    "\n",
    "# 0-  I have no education acquired in Bulgaria\n",
    "# 1-  Lower than elementary education \n",
    "# 2-  Elementary education \n",
    "# 3-  Primary education \n",
    "# 4-  Secondary education\n",
    "# 5-  Higher - Bachelor's degree\n",
    "# 6-  Higher - Master's degree\n",
    "# 7 - Higher - degree \"PhD\"\n",
    "\n",
    "# Stacked bar graph, education and return \n",
    "\n",
    "df_grouped = data[[\"education\", \"return\"]].groupby([ 'return','education']).count().unstack()\n",
    "\n",
    "df_grouped = data[[\"education\", \"return\"]].groupby([ 'education']).count().unstack()\n",
    "df_grouped_0 = data[data[\"return\"]== 0][[\"education\", \"return\"]].groupby([ 'education']).count().unstack()\n",
    "df_grouped_1 = data[data[\"return\"]== 1][[\"education\", \"return\"]].groupby([ 'education']).count().unstack()\n",
    "\n",
    "# print(df_grouped)\n",
    "# print(df_grouped_0)\n",
    "# print(df_grouped_1)"
   ]
  },
  {
   "cell_type": "code",
   "execution_count": null,
   "id": "61dc69d8",
   "metadata": {},
   "outputs": [],
   "source": [
    "data['education'].value_counts()"
   ]
  },
  {
   "cell_type": "code",
   "execution_count": null,
   "id": "321e8ca5",
   "metadata": {},
   "outputs": [],
   "source": [
    "import numpy as np\n",
    "import matplotlib.pyplot as plt\n",
    "\n",
    "# Make everything bold \n",
    "plt.rcParams[\"font.weight\"] = \"bold\"\n",
    "plt.rcParams[\"axes.labelweight\"] = \"bold\" \n",
    "\n",
    "sns.set_style(\"whitegrid\")\n",
    "sns.set_context(\"poster\")\n",
    "\n",
    "plt.figure(figsize=(20,10)) \n",
    "\n",
    "N = len(df_grouped)  + 2\n",
    "#count_no = (0,0,0, 2, 136, 200, 186, 38)\n",
    "count_no = (2,0,0, 2, 174, 240, 210, 38) ### Corect values \n",
    "\n",
    "ind = np.arange(N)    # the x locations for the groups\n",
    "width = 0.8   # the width of the bars: can also be len(x) sequence\n",
    "\n",
    "p1 = plt.bar(ind, count_no, color=['#701f57','#701f57','#701f57','#701f57', '#ad1759', '#e13342', '#f37651', '#f6b48f'], \n",
    "             width = width )  # bottom # #ad1759\n",
    "\n",
    "plt.ylabel('Count', fontsize = 24)\n",
    "#plt.title('Count of people who would return or not grouped by education category', fontsize = 24, x = 0.5, y =1.03) # title position \n",
    "\n",
    "plt.xticks(ind, (\"No education\", '< Elementary', 'Elementary', \n",
    "                 'Primary', ' Secondary', \"Bachelor\", \"Master\" ,\"PhD\"), fontsize = 18) # removed \"Master's degree\" --> no observations\n",
    "\n",
    "plt.yticks(np.arange(0, 241, 20), fontsize = 24) # y ticks\n",
    "plt.ylim(0, 240) # sets the y axis limits\n",
    "#plt.legend((p1[0], p2[0]), ('0 - No ', '1 - Yes'), fontsize = 20,  bbox_to_anchor=(1, 0.09)) #   bbox_to_anchor=(1, 0.1) # ,loc=1\n",
    "\n",
    "# Showing the values : MH \n",
    "for i in p1:\n",
    "    h1 = i.get_height()\n",
    "    if h1 < 3:\n",
    "        # If the value is 0, show the value slightly above the x axis\n",
    "        plt.text(i.get_x() + i.get_width() / 2., h1 / 2 + 6, \"%.0f\" % h1, ha=\"center\", color=\"black\", fontsize=24, fontweight=\"bold\")\n",
    "    else: \n",
    "        # If the values is not 0, show the value in the middle of the bar\n",
    "        plt.text(i.get_x() + i.get_width() / 2., h1 / 2 , \"%.0f\" % h1, ha=\"center\", va=\"center\", color=\"black\", fontsize=24, fontweight=\"bold\")\n",
    "plt.xticks(rotation=0)\n",
    "#plt.savefig('income_return_stacked_barplot_count.png', bbox_inches='tight',  dpi=600) \n",
    "plt.show()"
   ]
  },
  {
   "cell_type": "code",
   "execution_count": null,
   "id": "0ae71941",
   "metadata": {},
   "outputs": [],
   "source": [
    "pd.crosstab(data['return'], data['education'])"
   ]
  },
  {
   "cell_type": "code",
   "execution_count": null,
   "id": "1e44eb18",
   "metadata": {},
   "outputs": [],
   "source": [
    "# Stacked barplot for education categories and return \n",
    "sns.set_style(\"whitegrid\")\n",
    "sns.set_context(\"poster\")\n",
    "\n",
    "plt.figure(figsize=(20,10)) \n",
    "\n",
    "# note that the no education group has not answered the return question \n",
    "# merged the primary and secondary category, because the primary is 0, we can not dicide by zero, lol \n",
    "\n",
    "df_grouped_0_list = pd.Series([0,0,0, 0, 70,  130, 120, 20])\n",
    "df_grouped_1_list = pd.Series([0,0,0, 2, 66,  70,  66,  18])\n",
    "df_grouped_list =   pd.Series([0,0,0, 2, 136, 200, 186, 38])\n",
    "\n",
    "N = len(df_grouped_list) - 4\n",
    "count_no_0 = (df_grouped_0_list[4:9]/df_grouped_list[4:9]*100).tolist()  # when devided shows the percentage \n",
    "count_yes_1 = (df_grouped_1_list[4:9]/df_grouped_list[4:9]*100).tolist()\n",
    "\n",
    "ind = np.arange(N)    # the x locations for the groups\n",
    "width = 0.8    # the width of the bars: can also be len(x) sequence\n",
    "\n",
    "p1 = plt.bar(ind, count_no_0, color=['#ad1759'], width = width )  # bottom \n",
    "p2 = plt.bar(ind, count_yes_1,\n",
    "             bottom=count_no_0, color = ['#f6b48f'], width = width)\n",
    "\n",
    "plt.ylabel('Percentage', fontsize = 24)\n",
    "#plt.title('Percentage of people who would return or not grouped by education category in BG or abroad', fontsize = 24, x = 0.5, y =1.03) # title position \n",
    "\n",
    "plt.xticks(ind, ( 'Primary/Secondary', \"Bachelor\", \"Master\" ,\"PhD\"), fontsize = 24) # removed \"Master's degree\" --> no observations\n",
    "\n",
    "plt.yticks(np.arange(0, 101, 10), fontsize = 20) # y ticks\n",
    "plt.ylim(0, 100) # sets the y axis limits\n",
    "#plt.legend((p1[0], p2[0]), ( '0 - No', '1 - Yes'), fontsize = 20,  bbox_to_anchor=(1, 0.09)) #   bbox_to_anchor=(1, 0.1) # ,loc=1\n",
    "plt.legend((p1[0], p2[0]), ('0 - No ', '1 - Yes'), fontsize = 24,loc = 'best', bbox_to_anchor= (0.6, -0.1), ncol= 2) # below the plot \n",
    "# Showing the values\n",
    "for r1, r2 in zip(p1, p2):\n",
    "    h1 = r1.get_height()\n",
    "    h2 = r2.get_height()\n",
    "    plt.text(r1.get_x() + r1.get_width() / 2., h1 / 2., '%.1f%%' % h1, ha=\"center\", va=\"center\", color=\"black\", fontsize=24) #\"%.1f\" 2 decimal digiits no % sign  \n",
    "    plt.text(r2.get_x() + r2.get_width() / 2., h1 + h2 / 2., '%.1f%%' % h2, ha=\"center\", va=\"center\", color=\"black\", fontsize=24) # fontweight=\"bold\"\n",
    "\n",
    "    \n",
    "#plt.xticks(rotation=-45)\n",
    "#plt.savefig('income_return_stacked_barplot_perc.png', bbox_inches='tight',  dpi=600) \n",
    "plt.show()"
   ]
  },
  {
   "cell_type": "code",
   "execution_count": null,
   "id": "e077e7fc",
   "metadata": {},
   "outputs": [],
   "source": [
    "# df_grouped\n",
    "data.columns.tolist()\n",
    "\n",
    "print(data['q15_1'].sum())  # Germany\n",
    "print(data['q15_2'].sum())  # UK \n",
    "print(data['q15_3'].sum())  # Spain\n",
    "print(data['q15_4'].sum())  # Greece\n",
    "print(data['q15_5'].sum())   # France\n",
    "print(data['q15_6'].sum())  # Italy \n",
    "print(data['q15_7'].sum())  # Turkey \n",
    "print(data['q15_8'].sum())  # USA\n",
    "print(data['q15_9'].sum())   # Canada\n",
    "print(data['q15_10'].sum())  # Other  # 212"
   ]
  },
  {
   "cell_type": "code",
   "execution_count": null,
   "id": "bb9cc300",
   "metadata": {},
   "outputs": [],
   "source": [
    "#number_of_imigrants =\n",
    "[data['q15_1'].sum()]\n",
    "\n",
    "countries_count = [66,74,90, 22, 100, 18, 2, 78, 12, 212]\n",
    "countries_perc = []\n",
    "for i in countries_count: \n",
    "    perc =  round(i/674*100,1)\n",
    "    countries_perc.append(perc)\n",
    "countries_perc"
   ]
  },
  {
   "cell_type": "markdown",
   "id": "503ca44f",
   "metadata": {},
   "source": [
    "# Destination countries "
   ]
  },
  {
   "cell_type": "code",
   "execution_count": null,
   "id": "115a42e7",
   "metadata": {},
   "outputs": [],
   "source": [
    "### Countries\n",
    "\n",
    "import numpy as np\n",
    "import matplotlib.pyplot as plt\n",
    "\n",
    "# Make everything bold \n",
    "plt.rcParams[\"font.weight\"] = \"bold\"\n",
    "plt.rcParams[\"axes.labelweight\"] = \"bold\" \n",
    "\n",
    "sns.set_style(\"whitegrid\")\n",
    "sns.set_context(\"poster\")\n",
    "\n",
    "plt.figure(figsize=(30,15)) \n",
    "\n",
    "N = len(df_grouped)  + 2\n",
    "count_no = (66,74,90, 22, 100, 18, 2, 78, 12, 212)\n",
    "count_perc = (9.8, 11.0, 13.4, 3.3, 14.8, 2.7, 0.3, 11.6, 1.8, 31.5)\n",
    "\n",
    "#674 - (66 +74+90+ 22+ 100+ 18+ 2+ 78+ 12)  # 1 to 9 to the question  \n",
    "\n",
    "ind = np.arange(N)    # the x locations for the groups\n",
    "\n",
    "ind = np.arange(10)    # the x locations for the groups\n",
    "width = 0.8    # the width of the bars: can also be len(x) sequence\n",
    "\n",
    "#p1 = plt.bar(ind, count_no, color=['#701f57','#701f57','#701f57','#701f57', '#ad1759', '#e13342', '#f37651', '#f6b48f'], width = width )  # bottom # #ad1759\n",
    "\n",
    "p1 = plt.bar(ind, count_no, color=['#701f57', '#ad1759', '#e13342', '#f37651', '#f6b48f', '#701f57', '#ad1759', '#e13342', '#f37651', '#f6b48f'], width = width )  # bottom # #ad1759\n",
    "#p1 = plt.bar(ind, count_no, color=['#35193e', '#701f57', '#ad1759', '#e13342', '#f37651', '#f6b48f', '#35193e', '#701f57', '#ad1759', '#e13342'], width = width )  # bottom # #ad1759\n",
    "\n",
    "plt.ylabel('Count', fontsize = 20)\n",
    "#plt.title('Count of people by destination country', fontsize = 24, x = 0.5, y =1.03) # title position \n",
    "\n",
    "plt.xticks(ind, (\"Germany\", 'UK', 'Spain', \n",
    "                 'Greece', ' France', \"Italy\", \"Turkey\" ,\"USA\", \"Canada\", 'Other'), fontsize = 20) \n",
    "\n",
    "plt.yticks(np.arange(0, 281, 20), fontsize = 20) # y ticks\n",
    "plt.ylim(0, 280) # sets the y axis limits\n",
    "#plt.legend((p1[0], p2[0]), ('0 - No ', '1 - Yes'), fontsize = 20,  bbox_to_anchor=(1, 0.09)) #   bbox_to_anchor=(1, 0.1) # ,loc=1\n",
    "\n",
    "# Showing the values : MH \n",
    "for i in p1:\n",
    "    h1 = i.get_height()\n",
    "    if h1 < 3:\n",
    "        # If the value is 0, show the value slightly above the x axis\n",
    "        plt.text(i.get_x() + i.get_width() / 2., h1 / 2 + 6, \"%.0f\" % h1, ha=\"center\", color=\"black\", fontsize=20, fontweight=\"bold\")\n",
    "    else: \n",
    "        # If the values is not 0, show the value in the middle of the bar\n",
    "        plt.text(i.get_x() + i.get_width() / 2., h1 / 2 , \"%.0f\" % h1, ha=\"center\", va=\"center\", color=\"black\", fontsize=20, fontweight=\"bold\")\n",
    "    \n",
    "\n",
    "#plt.xticks(rotation=-45)\n",
    "#plt.savefig('countries_bar_plot.png', bbox_inches='tight',  dpi=600) \n",
    "plt.show()"
   ]
  },
  {
   "cell_type": "code",
   "execution_count": null,
   "id": "121b1686",
   "metadata": {},
   "outputs": [],
   "source": [
    "### Countries\n",
    "\n",
    "import numpy as np\n",
    "import matplotlib.pyplot as plt\n",
    "\n",
    "# Make everything bold \n",
    "plt.rcParams[\"font.weight\"] = \"bold\"\n",
    "plt.rcParams[\"axes.labelweight\"] = \"bold\" \n",
    "\n",
    "sns.set_style(\"whitegrid\")\n",
    "sns.set_context(\"poster\")\n",
    "\n",
    "plt.figure(figsize=(30,15))  # 30, 15\n",
    "\n",
    "N = len(df_grouped)  + 2\n",
    "count_no = (66,74,90, 22, 100, 18, 2, 78, 12, 212)\n",
    "count_perc = (9.8, 11.0, 13.4, 3.3, 14.8, 2.7, 0.3, 11.6, 1.8, 31.5)\n",
    "\n",
    "#674 - (66 +74+90+ 22+ 100+ 18+ 2+ 78+ 12)  # 1 to 9 to the question  \n",
    "\n",
    "ind = np.arange(N)    # the x locations for the groups\n",
    "\n",
    "ind = np.arange(10)    # the x locations for the groups\n",
    "width = 0.8    # the width of the bars: can also be len(x) sequence\n",
    "\n",
    "#p1 = plt.bar(ind, count_no, color=['#701f57','#701f57','#701f57','#701f57', '#ad1759', '#e13342', '#f37651', '#f6b48f'], width = width )  # bottom # #ad1759\n",
    "\n",
    "p1 = plt.bar(ind, count_perc, color=['#701f57', '#ad1759', '#e13342', '#f37651', '#f6b48f', '#701f57', '#ad1759', '#e13342', '#f37651', '#f6b48f'], width = width )  # bottom # #ad1759\n",
    "#p1 = plt.bar(ind, count_no, color=['#35193e', '#701f57', '#ad1759', '#e13342', '#f37651', '#f6b48f', '#35193e', '#701f57', '#ad1759', '#e13342'], width = width )  # bottom # #ad1759\n",
    "\n",
    "plt.ylabel('Percentage', fontsize = 20)\n",
    "#plt.title('Percentage of people by destination country', fontsize = 24, x = 0.5, y =1.03) # title position \n",
    "\n",
    "plt.xticks(ind, (\"Germany\", 'UK', 'Spain', \n",
    "                 'Greece', ' France', \"Italy\", \"Turkey\" ,\"USA\", \"Canada\", 'Other'), fontsize = 20) \n",
    "\n",
    "plt.yticks(np.arange(0, 36, 5), fontsize = 20) # y ticks\n",
    "plt.ylim(0, 35) # sets the y axis limits\n",
    "#plt.legend((p1[0], p2[0]), ('0 - No ', '1 - Yes'), fontsize = 20,  bbox_to_anchor=(1, 0.09)) #   bbox_to_anchor=(1, 0.1) # ,loc=1\n",
    "\n",
    "# Showing the values : MH \n",
    "for i in p1:\n",
    "    h1 = i.get_height()\n",
    "    if h1 < 2:\n",
    "        # If the value is 0, show the value slightly above the x axis\n",
    "        plt.text(i.get_x() + i.get_width() / 2., h1 / 2 + 2, '%.1f%%' % h1, ha=\"center\", color=\"black\", fontsize=20, fontweight=\"bold\")\n",
    "    else: \n",
    "        # If the values is not 0, show the value in the middle of the bar\n",
    "        plt.text(i.get_x() + i.get_width() / 2., h1 / 2 , '%.1f%%' % h1, ha=\"center\", va=\"center\", color=\"black\", fontsize=20, fontweight=\"bold\")\n",
    "    \n",
    "\n",
    "#plt.xticks(rotation=-45)\n",
    "#plt.savefig('countries_bar_plot_perc.png', bbox_inches='tight',  dpi=600) \n",
    "#plt.savefig('countries_bar_plot_perc_new.png', bbox_inches='tight',  dpi=600) \n",
    "plt.show()"
   ]
  },
  {
   "cell_type": "markdown",
   "id": "b36df828",
   "metadata": {},
   "source": [
    "# Reasons to migrate"
   ]
  },
  {
   "cell_type": "code",
   "execution_count": null,
   "id": "5bb30f75",
   "metadata": {},
   "outputs": [],
   "source": [
    "# Reasons to migrate\n",
    "\n",
    "reasons_list = ['q10_1', 'q10_2','q10_3','q10_4','q10_5','q10_6','q10_7','q10_8',\n",
    " 'q10_9','q10_10','q10_11','q10_12','q10_13','q10_14','q10_15',\n",
    " 'q10_16','q10_17','q10_18','q10_19']\n",
    "reasons_questions = [\"Starting a family / getting married\", \n",
    "\"I could not find a job in Bulgaria\", \n",
    "\"Low wages in Bulgaria\", \n",
    "\"To provide financial support to my family in Bulgaria\", \n",
    "\"Low standard of living in Bulgaria\", \n",
    "\"Bad living conditions in Bulgaria (low quality of life)\", \n",
    "\"Lack of perspectives for development\", \n",
    "\"Poor quality of healthcare, education and other public spheres\", \n",
    "\"Better settled life of ordinary people in the country I went to\", \n",
    "\"A natural disaster occurred in Bulgaria\", \n",
    "\"Lack of certain public services\", \n",
    "\"Poor social support\", \n",
    "\"Lack of security\", \n",
    "\"High crime rates\", \n",
    "\"Cronyism/ nepotism\", \n",
    "\"Corruption\", \n",
    "\"Study abroad\", \n",
    "\"Lack of freedom \", \n",
    "\"Other\"]\n",
    "reasons_count = []\n",
    "for i in reasons_list: \n",
    "    #print(data[i].sum())\n",
    "    count = int(round(data[i].sum(), 0))\n",
    "    reasons_count.append(count)\n",
    "    \n",
    "rasons_df = pd.DataFrame()\n",
    "rasons_df['Reason'] = reasons_list\n",
    "rasons_df['Question']  = reasons_questions\n",
    "rasons_df['Count'] = reasons_count\n",
    "rasons_df['Percentage'] = (reasons_count/rasons_df['Count'].sum()*100).astype(float)\n",
    "rasons_df['Percentage']  = round(rasons_df['Percentage'],1)\n",
    "rasons_df = rasons_df.sort_values(by = \"Percentage\", ascending = False)\n",
    "rasons_df"
   ]
  },
  {
   "cell_type": "code",
   "execution_count": null,
   "id": "9a686d1d",
   "metadata": {},
   "outputs": [],
   "source": [
    "# print(rasons_df.to_latex())"
   ]
  },
  {
   "cell_type": "code",
   "execution_count": null,
   "id": "ed94c01d",
   "metadata": {},
   "outputs": [],
   "source": [
    "# Make everything bold \n",
    "plt.rcParams[\"font.weight\"] = \"bold\"\n",
    "plt.rcParams[\"axes.labelweight\"] = \"bold\" \n",
    "\n",
    "sns.set_style(\"whitegrid\")\n",
    "sns.set_context(\"poster\")\n",
    "\n",
    "plt.figure(figsize=(30,15)) \n",
    "\n",
    "N = 19\n",
    "count_no = (360,338,316,302, 298,278, 262,252,252,224,168,144,116,102,74, 50,52,44,60)\n",
    "count_perc = (9.9, 9.3, 8.7, 8.3, 8.2, 7.6, 7.2, 6.9, 6.9, 6.2, 4.6, 4.0, 3.2, 2.8, 2.0, 1.4, 1.4, 1.2, 0.2)\n",
    "\n",
    "ind = np.arange(N)    # the x locations for the groups\n",
    "\n",
    "ind = np.arange(19)    # the x locations for the groups\n",
    "width = 0.8    # the width of the bars: can also be len(x) sequence\n",
    "\n",
    "p1 = plt.bar(ind, count_perc, color=['#701f57', '#ad1759', '#e13342', '#f37651', '#f6b48f', '#701f57', '#ad1759', '#e13342', '#f37651', '#f6b48f'], width = width )  # bottom # #ad1759\n",
    "\n",
    "plt.ylabel('Percentage', fontsize = 20)\n",
    "\n",
    "\n",
    "plt.xticks(ind,   ('Lack of perspectives for development',\n",
    " 'Bad living conditions in Bulgaria',\n",
    " 'Corruption',\n",
    " 'Low standard of living in Bulgaria',\n",
    " 'Better settled life of ordinary people in the country I went to',\n",
    " 'Low wages in Bulgaria',\n",
    " 'Cronyism/ nepotism',\n",
    " 'Poor quality of healthcare, education and other public spheres',\n",
    " 'Lack of security',\n",
    " 'Study abroad',\n",
    " 'High crime rates',\n",
    " 'Poor social support',\n",
    " 'Lack of freedom ',\n",
    " 'To provide financial support to my family in Bulgaria',\n",
    " 'Starting a family / getting married',\n",
    " 'Other',\n",
    " 'Lack of certain public services',\n",
    " 'I could not find a job in Bulgaria',\n",
    " 'A natural disaster occurred in Bulgaria'), fontsize = 20) \n",
    "        \n",
    "plt.yticks(np.arange(0, 11, 5), fontsize = 20) # y ticks\n",
    "plt.ylim(0, 11) # sets the y axis limits\n",
    "#plt.legend((p1[0], p2[0]), ('0 - No ', '1 - Yes'), fontsize = 20,  bbox_to_anchor=(1, 0.09)) #   bbox_to_anchor=(1, 0.1) # ,loc=1\n",
    "\n",
    "# Showing the values : MH \n",
    "for i in p1:\n",
    "    h1 = i.get_height()\n",
    "    if h1 < 0.5:\n",
    "        # If the value is 0, show the value slightly above the x axis\n",
    "        plt.text(i.get_x() + i.get_width() / 2., h1 / 2 + 0.2, '%.1f%%' % h1, ha=\"center\", color=\"black\", fontsize=20, fontweight=\"bold\")\n",
    "    else: \n",
    "        # If the values is not 0, show the value in the middle of the bar\n",
    "        plt.text(i.get_x() + i.get_width() / 2., h1 / 2 , '%.1f%%' % h1, ha=\"center\", va=\"center\", color=\"black\", fontsize=20, fontweight=\"bold\")\n",
    "    \n",
    "plt.xticks(rotation=45, ha='right')\n",
    "#plt.savefig('reasons_to_migrate.png', bbox_inches='tight',  dpi=600) \n",
    "plt.show()"
   ]
  }
 ],
 "metadata": {
  "kernelspec": {
   "display_name": "Python 3 (ipykernel)",
   "language": "python",
   "name": "python3"
  },
  "language_info": {
   "codemirror_mode": {
    "name": "ipython",
    "version": 3
   },
   "file_extension": ".py",
   "mimetype": "text/x-python",
   "name": "python",
   "nbconvert_exporter": "python",
   "pygments_lexer": "ipython3",
   "version": "3.9.13"
  }
 },
 "nbformat": 4,
 "nbformat_minor": 5
}
